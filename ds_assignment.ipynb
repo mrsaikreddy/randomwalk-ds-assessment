{
 "cells": [
  {
   "cell_type": "code",
   "execution_count": 1,
   "id": "141242b9-b67f-4229-babf-4dfcd303384c",
   "metadata": {},
   "outputs": [
    {
     "name": "stdout",
     "output_type": "stream",
     "text": [
      "<class 'pandas.core.frame.DataFrame'>\n",
      "RangeIndex: 399 entries, 0 to 398\n",
      "Data columns (total 24 columns):\n",
      " #   Column                     Non-Null Count  Dtype  \n",
      "---  ------                     --------------  -----  \n",
      " 0   book_id                    399 non-null    int64  \n",
      " 1   goodreads_book_id          399 non-null    int64  \n",
      " 2   best_book_id               399 non-null    int64  \n",
      " 3   work_id                    399 non-null    int64  \n",
      " 4   books_count                399 non-null    int64  \n",
      " 5   isbn                       388 non-null    object \n",
      " 6   isbn13                     389 non-null    float64\n",
      " 7   authors                    399 non-null    object \n",
      " 8   original_publication_year  399 non-null    float64\n",
      " 9   original_title             363 non-null    object \n",
      " 10  title                      399 non-null    object \n",
      " 11  language_code              356 non-null    object \n",
      " 12  average_rating             399 non-null    float64\n",
      " 13  ratings_count              399 non-null    int64  \n",
      " 14  work_ratings_count         399 non-null    int64  \n",
      " 15  work_text_reviews_count    399 non-null    int64  \n",
      " 16  ratings_1                  399 non-null    int64  \n",
      " 17  ratings_2                  399 non-null    int64  \n",
      " 18  ratings_3                  399 non-null    int64  \n",
      " 19  ratings_4                  399 non-null    int64  \n",
      " 20  ratings_5                  399 non-null    int64  \n",
      " 21  image_url                  399 non-null    object \n",
      " 22  small_image_url            399 non-null    object \n",
      " 23  NonEnglish                 399 non-null    int64  \n",
      "dtypes: float64(3), int64(14), object(7)\n",
      "memory usage: 74.9+ KB\n"
     ]
    }
   ],
   "source": [
    "#SAI KIRAN REDDY K\n",
    "#CS20B1059\n",
    "#PRO INDIA DATA-SCIENCE ASSIGNMENT\n",
    "import pandas as pd\n",
    "import matplotlib.pyplot as plt\n",
    "\n",
    "# Load  dataset\n",
    "books_df = pd.read_csv('books.csv')  # Replace with the correct path to your books.csv file\n",
    "\n",
    "## Initially data exploration\n",
    "books_df.info()"
   ]
  },
  {
   "cell_type": "code",
   "execution_count": 2,
   "id": "1180512c-31e3-4582-ab74-9e4f31f75455",
   "metadata": {},
   "outputs": [
    {
     "name": "stdout",
     "output_type": "stream",
     "text": [
      "Rows and Columns: 399, 24\n"
     ]
    }
   ],
   "source": [
    "# Q1: How many rows and columns are there in books.csv dataset?\n",
    "rows, columns = books_df.shape\n",
    "print(f\"Rows and Columns: {rows}, {columns}\")"
   ]
  },
  {
   "cell_type": "code",
   "execution_count": 3,
   "id": "91bf2596-5832-47b3-8a17-921d0009eeb3",
   "metadata": {},
   "outputs": [
    {
     "name": "stdout",
     "output_type": "stream",
     "text": [
      "Books without Original Title: 36\n"
     ]
    }
   ],
   "source": [
    "# Q2: How many books do not have an original title?\n",
    "books_without_original_title = books_df['original_title'].isna().sum()\n",
    "print(f\"Books without Original Title: {books_without_original_title}\")"
   ]
  },
  {
   "cell_type": "code",
   "execution_count": 4,
   "id": "a2ce752f-2a0d-4486-a9fe-33d99f5ef0e4",
   "metadata": {},
   "outputs": [
    {
     "name": "stdout",
     "output_type": "stream",
     "text": [
      "Unique Books: 363\n"
     ]
    }
   ],
   "source": [
    "# Q3: How many unique books are present in the dataset?\n",
    "# Evaluate based on the 'book_id' after removing null values in the original_title column.\n",
    "unique_books = books_df[books_df['original_title'].notna()]['book_id'].nunique()\n",
    "print(f\"Unique Books: {unique_books}\")"
   ]
  },
  {
   "cell_type": "code",
   "execution_count": 5,
   "id": "adce4526-873d-431f-ac27-4a251b99dfdd",
   "metadata": {},
   "outputs": [
    {
     "name": "stdout",
     "output_type": "stream",
     "text": [
      "Average Rating: 3.9837844611528817\n"
     ]
    }
   ],
   "source": [
    "# Q4: What is the average rating of all the books in the dataset based on ‘average_rating’?\n",
    "average_rating = books_df['average_rating'].mean()\n",
    "print(f\"Average Rating: {average_rating}\")"
   ]
  },
  {
   "cell_type": "code",
   "execution_count": 6,
   "id": "9fa708fd-12fc-4dcf-b4df-1283e6362e07",
   "metadata": {},
   "outputs": [
    {
     "name": "stdout",
     "output_type": "stream",
     "text": [
      "Books Published in 2000: 8\n"
     ]
    }
   ],
   "source": [
    "# Q5: Find the number of books published in the year ‘2000’ based on the ‘original_publication_year’.\n",
    "books_in_2000 = books_df[books_df['original_publication_year'] == 2000].shape[0]\n",
    "print(f\"Books Published in 2000: {books_in_2000}\")"
   ]
  },
  {
   "cell_type": "code",
   "execution_count": 7,
   "id": "2c5daff8-7516-480d-a34f-e7ca81c4fbc3",
   "metadata": {},
   "outputs": [
    {
     "name": "stdout",
     "output_type": "stream",
     "text": [
      "Book with Maximum Ratings: The Diary of a Young Girl\n"
     ]
    }
   ],
   "source": [
    "# Q6: Which book (title) has the maximum number of ratings based on ‘work_ratings_count’.\n",
    "book_with_max_ratings = books_df.loc[books_df['work_ratings_count'].idxmax(), 'title']\n",
    "print(f\"Book with Maximum Ratings: {book_with_max_ratings}\")"
   ]
  },
  {
   "cell_type": "code",
   "execution_count": 8,
   "id": "04ace15b-0b16-4ca4-9e1a-ca3eec7c810c",
   "metadata": {},
   "outputs": [
    {
     "data": {
      "image/png": "[encoded data removed]",
      "text/plain": [
       "<Figure size 1000x600 with 1 Axes>"
      ]
     },
     "metadata": {},
     "output_type": "display_data"
    }
   ],
   "source": [
    "# Q7: Bucket the average_rating of books into 11 buckets [0, 0.5, 1.0, ... , 5.0].eg: average_rating 3.0 to 3.49 will fall in bucket 3.0\n",
    "books_df['rating_bucket'] = books_df['average_rating'].apply(lambda x: (x * 2 // 1) / 2)\n",
    "rating_buckets = books_df.groupby('rating_bucket').size()\n",
    "\n",
    "# Plot bar graph\n",
    "plt.figure(figsize=(10, 6))\n",
    "rating_buckets.plot(kind='bar')\n",
    "plt.title('Number of Books in Each Rating Bucket')\n",
    "plt.xlabel('Rating Buckets')\n",
    "plt.ylabel('Number of Books')\n",
    "plt.xticks(rotation=0)\n",
    "plt.show()"
   ]
  },
  {
   "cell_type": "code",
   "execution_count": null,
   "id": "0556c982-d8f4-413a-a3b2-2eb2724da45d",
   "metadata": {},
   "outputs": [],
   "source": []
  }
 ],
 "metadata": {
  "kernelspec": {
   "display_name": "Python 3 (ipykernel)",
   "language": "python",
   "name": "python3"
  },
  "language_info": {
   "codemirror_mode": {
    "name": "ipython",
    "version": 3
   },
   "file_extension": ".py",
   "mimetype": "text/x-python",
   "name": "python",
   "nbconvert_exporter": "python",
   "pygments_lexer": "ipython3",
   "version": "3.11.7"
  }
 },
 "nbformat": 4,
 "nbformat_minor": 5
}
